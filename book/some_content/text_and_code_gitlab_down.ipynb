{
 "cells": [
  {
   "cell_type": "markdown",
   "metadata": {},
   "source": [
    "# Text and code\n",
    "\n",
    "```{error}\n",
    "The interactive Python feature has been temporarily removed from the TeachBooks Template Book because of a system outage at TU Delft's GitLab repository.\n",
    "\n",
    "This outage affects: 1) new books that are created from the TeachBooks Template, and 2) existing books that are _modified_ while TU Delft GitLab is down.\n",
    "\n",
    "To see what this page would look like when there is _not_ an outage, you can [visit this book which was created beforehand](https://rlanzafame.github.io/my-first-book/main/some_content/text_and_code.html).\n",
    "\n",
    "**Did you make a book using this template while the website was down?**\n",
    "\n",
    "Check whether TU Delft GitLab is live again by visiting [this link](https://gitlab.tudelft.nl/). If it is, you can restore the interactive Python feature to your book by following the one of the two approaches below.\n",
    "\n",
    "- **Option 1:** Create a new book using the template, following the instructions at [github.com/teachbooks/template](https://github.com/teachbooks/template).\n",
    "- **Option 2:** Replace this page in the table of contents file (`_toc.yml`) with the file `text_and_code.ipynb`, then uncomment the lines in the config file (`_config.yml`) that are related to the interactive Python feature. Commit the changes in the GitHub repository of your book, and the GitHub Actions workflow should take care of the rest! This is explained in more detail on [this page in the TeachBooks Manual](https://teachbooks.io/manual/features/live_code.html).\n",
    "```"
   ]
  }
 ],
 "metadata": {
  "kernelspec": {
   "display_name": "base",
   "language": "python",
   "name": "python3"
  },
  "language_info": {
   "codemirror_mode": {
    "name": "ipython",
    "version": 3
   },
   "file_extension": ".py",
   "mimetype": "text/x-python",
   "name": "python",
   "nbconvert_exporter": "python",
   "pygments_lexer": "ipython3",
   "version": "3.9.18"
  }
 },
 "nbformat": 4,
 "nbformat_minor": 2
}
